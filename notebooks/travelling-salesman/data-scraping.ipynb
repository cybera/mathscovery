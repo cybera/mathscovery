{
 "cells": [
  {
   "cell_type": "markdown",
   "metadata": {},
   "source": [
    "## Scraping Google Map data with locations of Calgary pubs\n",
    "\n",
    "Base URL\n",
    "\n",
    "https://www.google.com/maps/search/pubs+in+calgary/@51.0453812,-114.2203065,12z\n",
    "\n",
    "Inspect page, select body, right click then \"edit as HTML\", copy into .html file, run code in this notebook. "
   ]
  },
  {
   "cell_type": "code",
   "execution_count": null,
   "metadata": {},
   "outputs": [],
   "source": [
    "import requests\n",
    "from bs4 import BeautifulSoup\n",
    "import pandas as pd\n",
    "import matplotlib.pyplot as plt\n",
    "import folium\n",
    "from folium.plugins import MarkerCluster"
   ]
  },
  {
   "cell_type": "code",
   "execution_count": null,
   "metadata": {},
   "outputs": [],
   "source": [
    "# Scrape data\n",
    "page = open(\"./google_maps.html\")\n",
    "soup = BeautifulSoup(page.read())\n",
    "\n",
    "# attempt 1\n",
    "subsection = soup.find_all(\"div\",\n",
    "                           {\"class\":\"section-layout section-scrollbox scrollable-y scrollable-show section-layout-flex-vertical section-layout-inset-shadow\"})\n",
    "google_locations = subsection[0].find_all(\"a\",href=True)\n",
    "\n",
    "# attempt 2\n",
    "pub_name = []\n",
    "pub_href = []\n",
    "for a in soup.find_all('a', href=True):\n",
    "    try:\n",
    "        pub_name.append(a['aria-label'])\n",
    "        pub_href.append(a['href'])\n",
    "        #print(\"Found the URL:\", a['href'])\n",
    "        #print(\"With name\",a['aria-label'])\n",
    "    except:\n",
    "        continue"
   ]
  },
  {
   "cell_type": "code",
   "execution_count": null,
   "metadata": {},
   "outputs": [],
   "source": [
    "# Selecting data with pub information\n",
    "pub_name = pub_name[1:-1]\n",
    "pub_href = pub_href[1:-1]"
   ]
  },
  {
   "cell_type": "code",
   "execution_count": null,
   "metadata": {},
   "outputs": [],
   "source": [
    "#longitude\n",
    "pub_longitude = [float(pub_href[i].split(\"data\")[1].split(\"!\")[-1][2:13]) for i in range(len(pub_href))]\n",
    "#latitude\n",
    "pub_latitude = [float(pub_href[i].split(\"data\")[1].split(\"!\")[-2][2:]) for i in range(len(pub_href))]"
   ]
  },
  {
   "cell_type": "code",
   "execution_count": null,
   "metadata": {},
   "outputs": [],
   "source": [
    "# form dataframe\n",
    "calgary_pubs = pd.DataFrame({\"PubName\":pub_name,\n",
    "             \"Longitude\":pub_longitude,\n",
    "             \"Latitude\":pub_latitude,\n",
    "             \"GoogleURL\":pub_href})\n",
    "calgary_pubs.to_csv(\"Pub_data_Calgary.csv\")"
   ]
  },
  {
   "cell_type": "code",
   "execution_count": null,
   "metadata": {},
   "outputs": [],
   "source": [
    "latitude = calgary_pubs['Latitude'].to_list()[0]\n",
    "longitude = calgary_pubs[\"Longitude\"].to_list()[0]\n",
    "\n",
    "\n",
    "# Initial coordinates \n",
    "SC_COORDINATES = [latitude, longitude]\n",
    "\n",
    "# Create a map using our initial coordinates\n",
    "map_osm=folium.Map(location=SC_COORDINATES, zoom_start=10, tiles='Stamen Terrain')\n",
    "\n",
    "#Create marker cluster and add to our map\n",
    "marker_cluster = MarkerCluster().add_to(map_osm)\n",
    "\n",
    "# Iterate over each record, \n",
    "MAX_RECORDS = len(calgary_pubs)\n",
    "# For each record in rma_sample\n",
    "for each in calgary_pubs[0:MAX_RECORDS].iterrows():\n",
    "    # Use folium.Marker function, use X and Y coordinates to specify location\n",
    "    folium.Marker(location = [each[1]['Latitude'],each[1]['Longitude']],\n",
    "                 # Add pub name\n",
    "                  popup=folium.Popup(each[1]['PubName'],sticky=True)).add_to(map_osm)\n",
    "\n",
    "# Show the map\n",
    "display(map_osm)"
   ]
  },
  {
   "cell_type": "code",
   "execution_count": null,
   "metadata": {},
   "outputs": [],
   "source": [
    "# Plot\n",
    "plt.scatter(calgary_pubs[\"Longitude\"],calgary_pubs['Latitude'])\n",
    "plt.xlabel(\"Longitude\")\n",
    "plt.ylabel(\"Latitude\")\n",
    "plt.title(\"Calgary Pubs\")\n",
    "plt.show()"
   ]
  },
  {
   "cell_type": "code",
   "execution_count": null,
   "metadata": {},
   "outputs": [],
   "source": [
    "from math import sin, cos, sqrt, atan2, radians\n",
    "import numpy as np\n",
    "\n",
    "# approximate radius of earth in km\n",
    "# R = 6373.0\n",
    "\n",
    "# lat1 = radians(52.2296756)\n",
    "# lon1 = radians(21.0122287)\n",
    "# lat2 = radians(52.406374)\n",
    "# lon2 = radians(16.9251681)\n",
    "\n",
    "# dlon = lon2 - lon1\n",
    "# dlat = lat2 - lat1\n",
    "\n",
    "# a = sin(dlat / 2)**2 + cos(lat1) * cos(lat2) * sin(dlon / 2)**2\n",
    "# c = 2 * atan2(sqrt(a), sqrt(1 - a))\n",
    "\n",
    "# distance = R * c\n",
    "\n",
    "# print(\"Result:\", distance)\n",
    "# print(\"Should be:\", 278.546, \"km\")"
   ]
  },
  {
   "cell_type": "code",
   "execution_count": null,
   "metadata": {},
   "outputs": [],
   "source": [
    "rad_latitude = []\n",
    "rad_longitude = []\n",
    "for lat,long in zip(calgary_pubs['Latitude'].to_list(),calgary_pubs['Longitude'].to_list()):\n",
    "    rad_latitude.append(radians(lat))\n",
    "    rad_longitude.append(radians(long))"
   ]
  },
  {
   "cell_type": "code",
   "execution_count": null,
   "metadata": {},
   "outputs": [],
   "source": [
    "calgary_pubs[\"RadLat\"] = rad_latitude\n",
    "calgary_pubs[\"RadLong\"] = rad_longitude"
   ]
  },
  {
   "cell_type": "code",
   "execution_count": null,
   "metadata": {},
   "outputs": [],
   "source": [
    "# from https://stackoverflow.com/questions/19412462/getting-distance-between-two-points-based-on-latitude-longitude\n",
    "# approximate radius of earth in km\n",
    "R = 6373.0\n",
    "\n",
    "# Initialize matrix\n",
    "result_matrix = np.zeros((22,22))\n",
    "# Initialize row index\n",
    "i=0\n",
    "\n",
    "for lat1,lon1 in zip(calgary_pubs['RadLat'].to_list(),calgary_pubs['RadLong']):\n",
    "    # Initialize column index\n",
    "    j = 0\n",
    "    for lat2,lon2 in zip(calgary_pubs['RadLat'].to_list(),calgary_pubs['RadLong']):\n",
    "        # Compute pairwise longitude and latitude difference\n",
    "        delta_lon = lon2-lon1\n",
    "        delta_lat = lat2 - lat1\n",
    "        \n",
    "        # Computing distance\n",
    "        a = sin(delta_lat / 2)**2 + cos(lat1) * cos(lat2) * sin(delta_lon / 2)**2\n",
    "        c = 2 * atan2(sqrt(a), sqrt(1 - a))\n",
    "        distance = R*c\n",
    "        # Appending results\n",
    "        result_matrix[i,j] = distance\n",
    "        # Increase col number\n",
    "        j+=1\n",
    "    # Increase row number\n",
    "    i+=1\n"
   ]
  },
  {
   "cell_type": "code",
   "execution_count": null,
   "metadata": {},
   "outputs": [],
   "source": [
    "#result_matrix = np.zeros((22,22))\n",
    "distance_matrix = pd.DataFrame(result_matrix)\n",
    "# Rename columns\n",
    "distance_matrix.columns = calgary_pubs['PubName'].to_list()\n",
    "# Rename rows\n",
    "new_indeces = {i: calgary_pubs['PubName'].to_list()[i] for i in range(22)}\n",
    "distance_matrix.rename(index=new_indeces,inplace=True)"
   ]
  },
  {
   "cell_type": "code",
   "execution_count": null,
   "metadata": {},
   "outputs": [],
   "source": [
    "distance_matrix"
   ]
  },
  {
   "cell_type": "code",
   "execution_count": null,
   "metadata": {
    "scrolled": false
   },
   "outputs": [],
   "source": [
    "# From https://networkx.org/documentation/latest/auto_examples/drawing/plot_weighted_graph.html\n",
    "import matplotlib.pyplot as plt\n",
    "import networkx as nx\n",
    "\n",
    "G = nx.Graph()\n",
    "\n",
    "for itema in distance_matrix.columns:\n",
    "    for itemb in distance_matrix.index:\n",
    "        G.add_edge(itema,itemb,weight=distance_matrix[itema][itemb])\n",
    "        \n",
    "elarge = [(u, v,d) for (u, v, d) in G.edges(data=True) if d[\"weight\"] > 0.6]\n",
    "esmall = [(u, v,d) for (u, v, d) in G.edges(data=True) if d[\"weight\"] <= 0.6]\n",
    "    \n",
    "pos = nx.spring_layout(G, seed=7)  # positions for all nodes - seed for reproducibility\n",
    "\n",
    "# nodes\n",
    "nx.draw_networkx_nodes(G, pos, node_size=700)\n",
    "\n",
    "# edges\n",
    "#nx.draw_networkx_edges(G, pos, edgelist=elarge, width=6)\n",
    "nx.draw_networkx_edges(\n",
    "    G, pos, edgelist=esmall, width=3, alpha=0.5, edge_color=\"b\", style=\"dashed\"\n",
    ")\n",
    "\n",
    "# labels\n",
    "nx.draw_networkx_labels(G, pos, font_size=20, font_family=\"sans-serif\")\n",
    "#nx.draw_networkx_edge_labels(G, pos, edgelist=esmall,font_size=10, font_family=\"sans-serif\")\n",
    "nx.draw_networkx_edge_labels(G,pos,edge_labels={item[0:2]:item[2]['weight'] for item in esmall},font_color='black')\n",
    "\n",
    "ax = plt.gca()\n",
    "plt.rcParams[\"figure.figsize\"] = (15,10)\n",
    "\n",
    "ax.margins(0.01)\n",
    "plt.axis(\"off\")\n",
    "plt.tight_layout()\n",
    "plt.show()"
   ]
  },
  {
   "cell_type": "code",
   "execution_count": null,
   "metadata": {},
   "outputs": [],
   "source": []
  }
 ],
 "metadata": {
  "kernelspec": {
   "display_name": "Python 3",
   "language": "python",
   "name": "python3"
  },
  "language_info": {
   "codemirror_mode": {
    "name": "ipython",
    "version": 3
   },
   "file_extension": ".py",
   "mimetype": "text/x-python",
   "name": "python",
   "nbconvert_exporter": "python",
   "pygments_lexer": "ipython3",
   "version": "3.7.4"
  }
 },
 "nbformat": 4,
 "nbformat_minor": 2
}

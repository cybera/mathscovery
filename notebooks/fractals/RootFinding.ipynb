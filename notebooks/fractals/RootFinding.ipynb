{
 "cells": [
  {
   "cell_type": "markdown",
   "metadata": {},
   "source": [
    "# Introductory junk on root finding \n",
    "Root finding is the generalized name of funciton minimization, just rather than finding where a function is equal to zero, we do a little extra work to use it to find where a function is equal to _something_. Most generally, a minimization problem is the computational task of finding the value of $x$ which satisfies \n",
    "\n",
    "$$\n",
    "\\begin{equation}\n",
    "f(x) = 0\n",
    "\\end{equation}\n",
    "$$\n",
    "\n",
    "Well, to turn this into a _root finding_ problem, we are now looking for\n",
    "\n",
    "$$\n",
    "\\begin{equation}\n",
    "f(x) = c\n",
    "\\end{equation}\n",
    "$$\n",
    "\n",
    "Where, as in all minimization problems you'll find the phrase \"constants don't matter\" thrown around, so, to find the value of $x$ to see where our funciton evaluates to $c$ we simply have the problem\n",
    "\n",
    "$$\n",
    "\\begin{equation}\n",
    "f(x) - c = 0\n",
    "\\end{equation}\n",
    "$$\n",
    "\n",
    "our classic minimization problem\n",
    "\n",
    "## Newton-Raphson \n",
    "\n",
    "The method we will focus on here is the Newton-Raphson method before moving on to more general techniques, as I find it's a good introduction to the general idea of how minimization algorithms come to be. (If this was a craft beer, this is a discussion of \"mouth-feel\" for minimization routines). The idea of the Newton Raphson method is to use information about the derivative to interpolate our way to zero. \n",
    "\n",
    "### Derivation \n",
    "\n",
    "As with most derivations, our story begins with the mathematical equivalent of \"adding more layers\" to our neural network - we expand our function $f(x)$ in a Taylor Series about some small value. That is, for a small value, say $\\epsilon$ we have\n",
    "\n",
    "$$\n",
    "\\begin{equation}\n",
    "f(x + \\epsilon) \\approx f(x) + \\epsilon f^\\prime(x) + \\epsilon^2 f^{\\prime \\prime}(x) + ...\n",
    "\\end{equation}\n",
    "$$\n",
    "\n",
    "Where, as we're assuming $\\epsilon$ is sufficently small (or we're close enough to our solution) we neglect any terms beyond those linear in $\\epsilon$. That is, we have \n",
    "\n",
    "$$\n",
    "\\begin{aligned}\n",
    "f(x +\\epsilon) & \\approx f(x) + \\epsilon f^\\prime(x) = 0 \\\\\n",
    "\\implies & \\epsilon = -\\frac{f(x)}{f^\\prime(x)}\n",
    "\\end{aligned}\n",
    "$$\n",
    "\n",
    "Where we can define our update formulas to be our previous point, minus the above equation. Or\n",
    "\n",
    "$$\n",
    "\\begin{aligned}\n",
    "x_{i+1} = & x_i -\\frac{f(x_i)}{f^\\prime(x_i)} \\\\\n",
    "\\epsilon_{i+1} = & \\epsilon_i  -\\frac{f(x_i)}{f^\\prime(x_i)}\n",
    "\\end{aligned}\n",
    "$$\n",
    "\n",
    "Where we would repeat this process until subsequent values for $x_i$ no longer change much.  \n",
    "\n",
    "One caveat to the above is the iterative nature of finding $x_n$, how do we get this algorithm going? The answer here is that we have to provide an initial guess at our solution. And with any luck, we should know approximately where our solution is so that we can guess at it, and come to a solution rather quickly. As we explore this notebook, we will see rather quickly that the inital guess at our solution matters a lot when it comes to finding solutions -- if we can find them at all!\n",
    "\n",
    "# Challenge 1\n",
    "\n",
    "Implement your own Newton Raphson method below. I have set up a function for you to fill in with your own implemenation of the Newton Raphson method. I have also provided a completed function in the `scripts` folder of this directory if you don't want to write it yourself, but I do strongly recommend that you try!"
   ]
  },
  {
   "cell_type": "code",
   "execution_count": 1,
   "metadata": {},
   "outputs": [],
   "source": [
    "import numpy as np\n",
    "import matplotlib.pyplot as plt \n",
    "from scipy.optimize import brentq\n",
    "%matplotlib inline\n",
    "\n",
    "def function(x):\n",
    "    return x**2\n",
    "\n",
    "def fprime(x):\n",
    "    return 2 * x\n",
    "\n",
    "def MyNR(f, fprime, x0, max_iter = 100, prec = 1e-6, verbose = False):\n",
    "    '''\n",
    "    Your Implementation of the Newton Raphson method. The variables are as follows:\n",
    "    f --> a Python function which takes a point x, and returns that function as evaluated\n",
    "          at that point x\n",
    "    fprime --> the derivative of your function f, which takes a point x and returns a the value \n",
    "               of the derivative at x\n",
    "    x0 --> the inital guess at your solution\n",
    "    max_iter --> How many times you want to try to find your solution\n",
    "    prec --> the precision of your calculation ie. how close to zero is our soltion?\n",
    "    verbose --> Do we want to print convergence messages\n",
    "    '''\n",
    "    \n",
    "    # So we can plot our solutions path\n",
    "    x = [x0]\n",
    "    x_val = x0\n",
    "    \n",
    "    for i in range(max_iter):\n",
    "        \n",
    "        funciton_value = 1# YOUR CODE HERE\n",
    "        derivative_value = 1#YOUR CODE HERE\n",
    "        epsilon = 1#YOUR CODE HERE\n",
    "        new_x =1 # YOUR CODE HERE\n",
    "        \n",
    "        x.append(new_x)\n",
    "        \n",
    "        if abs(epsilon) < prec:\n",
    "            return x_val, x\n",
    "    if verbose:\n",
    "        print(f\"This calculation did not converge after {max_iter} iterations\")\n",
    "    \n",
    "    return x_val, x"
   ]
  },
  {
   "cell_type": "markdown",
   "metadata": {},
   "source": [
    "# How Does It Find Solutions\n",
    "\n",
    "Let's take a look at how well we find solutions using Newton Raphson. Let's start with a nice easy case of trying to find where\n",
    "\n",
    "$$\n",
    "x^2 = 0\n",
    "$$\n",
    "\n",
    "This is a nice friendly equation with only one minima, let's see how well we find zero.\n",
    "\n",
    "## Challenge 2\n",
    "\n",
    "1. Try adding different values for `x0`, does your path to solution change? \n",
    "2. Use your own function `MyNR`, do you get the same results?\n",
    "\n",
    "Notice how many iterations it takes before it converges depending on your initial guess"
   ]
  },
  {
   "cell_type": "code",
   "execution_count": 6,
   "metadata": {},
   "outputs": [
    {
     "name": "stdout",
     "output_type": "stream",
     "text": [
      "3.0517578125e-05\n"
     ]
    },
    {
     "data": {
      "text/plain": [
       "(-0.6, 0.6)"
      ]
     },
     "execution_count": 6,
     "metadata": {},
     "output_type": "execute_result"
    },
    {
     "data": {
      "image/png": "[encoded data removed]",
      "text/plain": [
       "<Figure size 432x288 with 1 Axes>"
      ]
     },
     "metadata": {
      "needs_background": "light"
     },
     "output_type": "display_data"
    }
   ],
   "source": [
    "import sys\n",
    "sys.path.append('scripts/')\n",
    "import fractalfuncs as FF\n",
    "\n",
    "def func(x):\n",
    "    return np.power(x,2)\n",
    "\n",
    "def deriv(x):\n",
    "    return 2*np.array(x)\n",
    "        \n",
    "    \n",
    "x= np.arange(-1,1,1/100)\n",
    "\n",
    "plt.plot(x, func(x))\n",
    "\n",
    "x0 = -8\n",
    "\n",
    "# Replace FF.NewtonRaphson with your own implementation if you desire\n",
    "min_ , points = FF.NewtonRaphson(func, deriv, x0=x0,prec= 1e-5)  \n",
    "\n",
    "plt.plot(points, func(points), linestyle='--', marker='o', color='b')\n",
    "plt.text(-.5, 0.5, f\"I converged in {len(points)} iterations\", size = 16)\n",
    "plt.text(-.5, 0.45, f\"Found root at $x=${round(min_,2)}\", size = 16)\n",
    "plt.ylim([0,0.6])\n",
    "plt.xlim([-.6,.6])"
   ]
  },
  {
   "cell_type": "markdown",
   "metadata": {},
   "source": [
    "So that was pretty easy, but what about if we use a \"spicer\" function than a simple quadratic? Lets try something that we couldn't invert easily by hand, something like say\n",
    "\n",
    "$$\n",
    "f(x) = -10 \\exp\\left(-x^2\\right)-5 \\exp\\left( \\left[x-5\\right]^2\\right) +x = 0\n",
    "$$\n",
    "\n",
    "where in fact, inverting this equation and solving for where x is equal to zero by hand is quite impossible! But let's plot that function below and see what it looks like"
   ]
  },
  {
   "cell_type": "code",
   "execution_count": 16,
   "metadata": {},
   "outputs": [
    {
     "data": {
      "text/plain": [
       "<matplotlib.lines.Line2D at 0x129ec1950>"
      ]
     },
     "execution_count": 16,
     "metadata": {},
     "output_type": "execute_result"
    },
    {
     "data": {
      "image/png": "[encoded data removed]",
      "text/plain": [
       "<Figure size 432x288 with 1 Axes>"
      ]
     },
     "metadata": {
      "needs_background": "light"
     },
     "output_type": "display_data"
    }
   ],
   "source": [
    "def double_min(x):\n",
    "    return -10 * np.exp(-x**2) - 5*np.exp(-(x - 5)**2)  +x\n",
    "def double_min_deriv(x):\n",
    "    return 20 * x * np.exp(-x**2) + 10 * (x-5) * np.exp(-(x-5)**2) \n",
    "\n",
    "x= np.arange(-5,10,1/100)\n",
    "plt.plot(x, double_min(x))\n",
    "plt.axhline(0, c = 'black')"
   ]
  },
  {
   "cell_type": "markdown",
   "metadata": {},
   "source": [
    "Ah ha! so we see that we have two roots, one at about 1.5, and another at about 4.5. Let's see how well our root finding technique can find those roots below\n",
    "\n",
    "## Challenge 3\n",
    "\n",
    "Change your initial guess `x0`, can you find values that do not find a solution? Note that finding the root at approximately 1.5 is much more difficult!"
   ]
  },
  {
   "cell_type": "code",
   "execution_count": 21,
   "metadata": {
    "scrolled": true
   },
   "outputs": [
    {
     "name": "stdout",
     "output_type": "stream",
     "text": [
      "3.929620428007494\n"
     ]
    },
    {
     "data": {
      "text/plain": [
       "<matplotlib.collections.PathCollection at 0x129fe7a10>"
      ]
     },
     "execution_count": 21,
     "metadata": {},
     "output_type": "execute_result"
    },
    {
     "data": {
      "image/png": "[encoded data removed]",
      "text/plain": [
       "<Figure size 432x288 with 1 Axes>"
      ]
     },
     "metadata": {
      "needs_background": "light"
     },
     "output_type": "display_data"
    }
   ],
   "source": [
    "# Replace FF.NewtonRaphson with your own implementation if you desire\n",
    "def double_min(x):\n",
    "    return -10 * np.exp(-x**2) - 5*np.exp(-(x - 5)**2)  +x\n",
    "def double_min_deriv(x):\n",
    "    return 20 * x * np.exp(-x**2) + 10 * (x-5) * np.exp(-(x-5)**2) \n",
    "\n",
    "x0 = 1\n",
    "min_ , points = FF.NewtonRaphson(double_min, double_min_deriv, x0=x0, prec= 1e-5)  \n",
    "\n",
    "plt.plot(x, double_min(x))\n",
    "plt.text(-5, 6.0, f\"I converged in {len(points)} iterations\", size = 16)\n",
    "plt.text(-5, 4.0, f\"Found root at $x$={round(min_,2)}\", size = 16)\n",
    "\n",
    "plt.plot(np.array(points), double_min(np.array(points)), linestyle='--', marker='o', color='b')\n",
    "last = points[-1]\n",
    "\n",
    "plt.scatter(last,double_min(last) , c = 'r', marker = \"x\", s=200)\n"
   ]
  },
  {
   "cell_type": "markdown",
   "metadata": {},
   "source": [
    "Where on a function like the one above, it probably didn't take you too long to find an intial guess at a solution which did not. This is not your fault. In fact, this is something that just happens when it comes to root finding! Because of this there are a few pieces of advice when it comes to root finding\n",
    "\n",
    "1. Always plot your function and try to have an idea approximately where your solution lies so you can make an intelligent initial guess\n",
    "2. If your solution doesn't converge, odds are your initial guess was bad!\n",
    "\n",
    "\n",
    "You may be wondering how this can be used to generate fractals, but we will start abusing the convergence properties of the Newton Raphson (and other formulas) to find areas where our function converges, and areas where it does not. "
   ]
  },
  {
   "cell_type": "markdown",
   "metadata": {},
   "source": [
    "## More Things\n",
    "\n",
    "Try with other functions! If you're not sure on how to take the derivative of a function, wolframalpha may help, alternatively you can do it numerically with a provided function like so \n",
    "\n",
    "\n",
    "\n",
    "```python\n",
    "# Only if you haven't imported it already\n",
    "import sys\n",
    "sys.path.append('scripts/')\n",
    "import fractalfuncs as FF\n",
    "def myfunction(z):\n",
    "    return z**2 # for example\n",
    "\n",
    "def myderivative(z):\n",
    "    return FF.nderiv(myfunction, z)\n",
    "```"
   ]
  }
 ],
 "metadata": {
  "kernelspec": {
   "display_name": "Python 3",
   "language": "python",
   "name": "python3"
  },
  "language_info": {
   "codemirror_mode": {
    "name": "ipython",
    "version": 3
   },
   "file_extension": ".py",
   "mimetype": "text/x-python",
   "name": "python",
   "nbconvert_exporter": "python",
   "pygments_lexer": "ipython3",
   "version": "3.7.9"
  },
  "nbTranslate": {
   "displayLangs": [
    "*"
   ],
   "hotkey": "alt-t",
   "langInMainMenu": true,
   "sourceLang": "en",
   "targetLang": "fr",
   "useGoogleTranslate": true
  }
 },
 "nbformat": 4,
 "nbformat_minor": 2
}
